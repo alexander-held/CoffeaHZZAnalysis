{
 "cells": [
  {
   "cell_type": "code",
   "execution_count": 1,
   "metadata": {},
   "outputs": [],
   "source": [
    "import awkward as ak\n",
    "from coffea import hist, processor\n",
    "from coffea.nanoevents import BaseSchema\n",
    "import numpy as np\n",
    "import math\n",
    "%matplotlib inline"
   ]
  },
  {
   "cell_type": "code",
   "execution_count": 18,
   "metadata": {},
   "outputs": [],
   "source": [
    "fileset = {'Data': ['4lep/Data/data_A.4lep.root',\n",
    "                    '4lep/Data/data_B.4lep.root',\n",
    "                    '4lep/Data/data_C.4lep.root',\n",
    "                    '4lep/Data/data_D.4lep.root'],\n",
    "           'Background $Z,t\\bar{t}$': ['4lep/MC/mc_361106.Zee.4lep.root',\n",
    "                                       '4lep/MC/mc_361107.Zmumu.4lep.root',\n",
    "                                       '4lep/MC/mc_410000.ttbar_lep.4lep.root'],\n",
    "           'Background $ZZ^{star}$': ['4lep/MC/mc_363490.llll.4lep.root'],\n",
    "           'Signal ($m_H$ = 125 GeV)': ['4lep/MC/mc_345060.ggH125_ZZ4lep.4lep.root',\n",
    "                                        '4lep/MC/mc_344235.VBFH125_ZZ4lep.4lep.root',\n",
    "                                        '4lep/MC/mc_341964.WH125_ZZ4lep.4lep.root',\n",
    "                                        '4lep/MC/mc_341947.ZH125_ZZ4lep.4lep.root']}"
   ]
  },
  {
   "cell_type": "code",
   "execution_count": 4,
   "metadata": {},
   "outputs": [],
   "source": [
    "# Method from \n",
    "\n",
    "def calc_mllll(lep_pt,lep_eta,lep_phi,lep_E):\n",
    "    # first lepton is [0], 2nd lepton is [1] etc\n",
    "    px_0 = lep_pt[0]*math.cos(lep_phi[0]) # x-component of lep[0] momentum\n",
    "    py_0 = lep_pt[0]*math.sin(lep_phi[0]) # y-component of lep[0] momentum\n",
    "    pz_0 = lep_pt[0]*math.sinh(lep_eta[0]) # z-component of lep[0] momentum\n",
    "    px_1 = lep_pt[1]*math.cos(lep_phi[1]) # x-component of lep[1] momentum\n",
    "    py_1 = lep_pt[1]*math.sin(lep_phi[1]) # y-component of lep[1] momentum\n",
    "    pz_1 = lep_pt[1]*math.sinh(lep_eta[1]) # z-component of lep[1] momentum\n",
    "    px_2 = lep_pt[2]*math.cos(lep_phi[2]) # x-component of lep[2] momentum\n",
    "    py_2 = lep_pt[2]*math.sin(lep_phi[2]) # y-component of lep[2] momentum\n",
    "    pz_2 = lep_pt[2]*math.sinh(lep_eta[2]) # z-component of lep[3] momentum\n",
    "    px_3 = lep_pt[3]*math.cos(lep_phi[3]) # x-component of lep[3] momentum\n",
    "    py_3 = lep_pt[3]*math.sin(lep_phi[3]) # y-component of lep[3] momentum\n",
    "    pz_3 = lep_pt[3]*math.sinh(lep_eta[3]) # z-component of lep[3] momentum\n",
    "    sumpx = px_0 + px_1 + px_2 + px_3 # x-component of 4-lepton momentum\n",
    "    sumpy = py_0 + py_1 + py_2 + py_3 # y-component of 4-lepton momentum\n",
    "    sumpz = pz_0 + pz_1 + pz_2 + pz_3 # z-component of 4-lepton momentum\n",
    "    sumE = lep_E[0] + lep_E[1] + lep_E[2] + lep_E[3] # energy of 4-lepton system\n",
    "    return math.sqrt(sumE**2 - sumpx**2 - sumpy**2 - sumpz**2)/1000 #/1000 to go from MeV to GeV"
   ]
  },
  {
   "cell_type": "code",
   "execution_count": 5,
   "metadata": {},
   "outputs": [],
   "source": [
    "# Methods from \n",
    "\n",
    "# cut on lepton charge\n",
    "# paper: \"selecting two pairs of isolated leptons, each of which is comprised of two leptons with the same flavour and opposite charge\"\n",
    "def cut_lep_charge(lep_charge):\n",
    "# throw away when sum of lepton charges is not equal to 0\n",
    "# first lepton is [0], 2nd lepton is [1] etc\n",
    "    return lep_charge[0] + lep_charge[1] + lep_charge[2] + lep_charge[3] != 0\n",
    "\n",
    "# cut on lepton type\n",
    "# paper: \"selecting two pairs of isolated leptons, each of which is comprised of two leptons with the same flavour and opposite charge\"\n",
    "def cut_lep_type(lep_type):\n",
    "# for an electron lep_type is 11\n",
    "# for a muon lep_type is 13\n",
    "# throw away when none of eeee, mumumumu, eemumu\n",
    "    sum_lep_type = lep_type[0] + lep_type[1] + lep_type[2] + lep_type[3]\n",
    "    return (sum_lep_type != 44) and (sum_lep_type != 48) and (sum_lep_type != 52)"
   ]
  },
  {
   "cell_type": "code",
   "execution_count": 15,
   "metadata": {},
   "outputs": [],
   "source": [
    "class Processor(processor.ProcessorABC):\n",
    "    def __init__(self):\n",
    "        dataset_axis = hist.Cat(\"dataset\", \"\")\n",
    "        mllll_axis = hist.Bin(\"mllll\", \"4-lepton invariant mass $\\mathrm{m_{4l}}$ [GeV]\", 34, 80, 250)\n",
    "        self._accumulator = processor.dict_accumulator({\n",
    "            \"sumw\": processor.defaultdict_accumulator(float),\n",
    "            \"mllll\": hist.Hist(\"Events / 5 GeV\", dataset_axis, mllll_axis)\n",
    "        })\n",
    "\n",
    "    @property\n",
    "    def accumulator(self):\n",
    "        return self._accumulator\n",
    "\n",
    "    def process(self, events):\n",
    "        output = self.accumulator.identity()\n",
    "\n",
    "        dataset = events.metadata[\"dataset\"]\n",
    "        \n",
    "        \"\"\"\n",
    "        # I thought maybe I needed to use this? But this doesn't seem to change the structure of the data at all\n",
    "        leptons = ak.zip({\n",
    "            \"charge\": events.lep_charge,\n",
    "            \"type\": events.lep_type,\n",
    "            \"pt\": events.lep_pt,\n",
    "            \"eta\": events.lep_eta,\n",
    "            \"phi\": events.lep_phi,\n",
    "            \"E\": events.lep_E\n",
    "        })\n",
    "        \"\"\"\n",
    "        \"\"\"\n",
    "        # This doesn't work because the function indexes into events when it should index into the particle in an individual event\n",
    "        charge_cut = cut_lep_charge(events.lep_charge)\n",
    "        events = events[~charge_cut]\n",
    "        type_cut = cut_lep_type(events.lep_type)\n",
    "        events = events[~type_cut]\n",
    "        mllll = calc_mllll(events.lep_pt, events.lep_eta, events.lep_phi, events.lep_E)\n",
    "        \"\"\"\n",
    "        events = [event for event in events if not cut_lep_charge(event.lep_charge)]\n",
    "        events = [event for event in events if not cut_lep_type(event.lep_type)]\n",
    "        mllll = np.array([calc_mllll(event.lep_pt, event.lep_eta, event.lep_phi, event.lep_E) for event in events])\n",
    "        \n",
    "        output[\"sumw\"][dataset] += len(events)\n",
    "        output[\"mllll\"].fill(dataset=dataset, mllll=mllll)\n",
    "\n",
    "        return output\n",
    "\n",
    "    def postprocess(self, accumulator):\n",
    "        return accumulator"
   ]
  },
  {
   "cell_type": "code",
   "execution_count": 19,
   "metadata": {
    "scrolled": false
   },
   "outputs": [
    {
     "name": "stderr",
     "output_type": "stream",
     "text": [
      "distributed.comm.tcp - WARNING - Could not set timeout on TCP stream: [Errno 92] Protocol not available\n",
      "distributed.comm.tcp - WARNING - Could not set timeout on TCP stream: [Errno 92] Protocol not available\n",
      "distributed.comm.tcp - WARNING - Could not set timeout on TCP stream: [Errno 92] Protocol not available\n",
      "distributed.comm.tcp - WARNING - Could not set timeout on TCP stream: [Errno 92] Protocol not available\n",
      "distributed.comm.tcp - WARNING - Could not set timeout on TCP stream: [Errno 92] Protocol not available\n",
      "distributed.comm.tcp - WARNING - Could not set timeout on TCP stream: [Errno 92] Protocol not available\n",
      "distributed.comm.tcp - WARNING - Could not set timeout on TCP stream: [Errno 92] Protocol not available\n",
      "distributed.comm.tcp - WARNING - Could not set timeout on TCP stream: [Errno 92] Protocol not available\n",
      "distributed.comm.tcp - WARNING - Could not set timeout on TCP stream: [Errno 92] Protocol not available\n",
      "distributed.comm.tcp - WARNING - Could not set timeout on TCP stream: [Errno 92] Protocol not available\n",
      "distributed.comm.tcp - WARNING - Could not set timeout on TCP stream: [Errno 92] Protocol not available\n",
      "distributed.comm.tcp - WARNING - Could not set timeout on TCP stream: [Errno 92] Protocol not available\n"
     ]
    },
    {
     "name": "stdout",
     "output_type": "stream",
     "text": [
      "[                                        ] | 0% Completed |  1.0s"
     ]
    },
    {
     "name": "stderr",
     "output_type": "stream",
     "text": [
      "distributed.comm.tcp - WARNING - Could not set timeout on TCP stream: [Errno 92] Protocol not available\n",
      "distributed.comm.tcp - WARNING - Could not set timeout on TCP stream: [Errno 92] Protocol not available\n",
      "distributed.comm.tcp - WARNING - Could not set timeout on TCP stream: [Errno 92] Protocol not available\n",
      "distributed.comm.tcp - WARNING - Could not set timeout on TCP stream: [Errno 92] Protocol not available\n"
     ]
    },
    {
     "name": "stdout",
     "output_type": "stream",
     "text": [
      "[########################################] | 100% Completed |  1.8s\r"
     ]
    },
    {
     "name": "stderr",
     "output_type": "stream",
     "text": [
      "distributed.comm.tcp - WARNING - Could not set timeout on TCP stream: [Errno 92] Protocol not available\n",
      "distributed.comm.tcp - WARNING - Could not set timeout on TCP stream: [Errno 92] Protocol not available\n",
      "distributed.comm.tcp - WARNING - Could not set timeout on TCP stream: [Errno 92] Protocol not available\n"
     ]
    },
    {
     "name": "stdout",
     "output_type": "stream",
     "text": [
      "[########################################] | 100% Completed | 15min 28.9s\r"
     ]
    },
    {
     "name": "stderr",
     "output_type": "stream",
     "text": [
      "distributed.comm.tcp - WARNING - Could not set timeout on TCP stream: [Errno 92] Protocol not available\n"
     ]
    }
   ],
   "source": [
    "from dask.distributed import Client\n",
    "import time\n",
    "\n",
    "client = Client()\n",
    "\n",
    "output = processor.run_uproot_job(fileset,\n",
    "                                treename = 'mini',\n",
    "                                processor_instance = Processor(),\n",
    "                                executor = processor.dask_executor,\n",
    "                                executor_args = {'schema': BaseSchema, 'client': client}\n",
    "                                )"
   ]
  },
  {
   "cell_type": "code",
   "execution_count": 23,
   "metadata": {},
   "outputs": [
    {
     "data": {
      "text/plain": [
       "<AxesSubplot:xlabel='4-lepton invariant mass $\\\\mathrm{m_{4l}}$ [GeV]', ylabel='Events / 5 GeV'>"
      ]
     },
     "execution_count": 23,
     "metadata": {},
     "output_type": "execute_result"
    },
    {
     "data": {
      "image/png": "[encoded data removed]",
      "text/plain": [
       "<Figure size 432x288 with 1 Axes>"
      ]
     },
     "metadata": {
      "needs_background": "light"
     },
     "output_type": "display_data"
    }
   ],
   "source": [
    "import re\n",
    "\n",
    "notdata = re.compile('(?!Data)')\n",
    "\n",
    "fill_opts = {\n",
    "    'edgecolor': (0,0,0,0.3),\n",
    "    'alpha': 0.8\n",
    "}\n",
    "error_opts = {\n",
    "    'label': 'Stat. Unc.',\n",
    "    'hatch': '///',\n",
    "    'facecolor': 'none',\n",
    "    'edgecolor': (0,0,0,.5),\n",
    "    'linewidth': 0\n",
    "}\n",
    "data_err_opts = {\n",
    "    'linestyle': 'none',\n",
    "    'marker': '.',\n",
    "    'markersize': 10.,\n",
    "    'color': 'k',\n",
    "    'elinewidth': 1,\n",
    "}\n",
    "\n",
    "hist.plot1d(output['mllll'][notdata], overlay='dataset', stack=True, fill_opts=fill_opts, error_opts=error_opts)\n",
    "hist.plot1d(output['mllll']['Data'], overlay='dataset', clear=False, error_opts=data_err_opts)"
   ]
  },
  {
   "cell_type": "code",
   "execution_count": 24,
   "metadata": {},
   "outputs": [],
   "source": [
    "\"\"\"\n",
    "# Just for testing/exploring the events data structure\n",
    "from coffea.nanoevents import NanoEventsFactory\n",
    "\n",
    "fname = '4lep/MC/mc_361107.Zmumu.4lep.root'\n",
    "events = NanoEventsFactory.from_root(fname, schemaclass=BaseSchema, treepath='mini').events()\n",
    "\"\"\""
   ]
  }
 ],
 "metadata": {
  "kernelspec": {
   "display_name": "Python 3",
   "language": "python",
   "name": "python3"
  },
  "language_info": {
   "codemirror_mode": {
    "name": "ipython",
    "version": 3
   },
   "file_extension": ".py",
   "mimetype": "text/x-python",
   "name": "python",
   "nbconvert_exporter": "python",
   "pygments_lexer": "ipython3",
   "version": "3.9.5"
  }
 },
 "nbformat": 4,
 "nbformat_minor": 2
}
